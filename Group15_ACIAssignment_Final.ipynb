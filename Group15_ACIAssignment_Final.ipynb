{
 "cells": [
  {
   "cell_type": "markdown",
   "id": "0ab38be8-e05e-4538-86b1-9384a3434ac2",
   "metadata": {},
   "source": [
    "<h1> Artificial and Computational Intelligence Assignment 1 </h1>"
   ]
  },
  {
   "cell_type": "markdown",
   "id": "b93a7b6e-8aec-4d1f-8e2e-394b7ba537d0",
   "metadata": {},
   "source": [
    "<h3> Problem solving by Uninformed & Informed Search </h3>"
   ]
  },
  {
   "cell_type": "markdown",
   "id": "2be6b356-32db-4081-a3f0-943f951afabd",
   "metadata": {},
   "source": [
    "| S.No.| BITS ID       | Name               | Contribution |\n",
    "|------|---------------|--------------------|----------|\n",
    "| 1    | 2024AA05041    | Amit Kumar         |  100 %  | \n",
    "| 2    | 2024AA05042    | Yogesh Kumar       | 100 % | \n",
    "| 3    | 2024AA05043    | Ashish Vashistha   | 100 % |\n",
    "| 4    | 2024AA05044    | A Chakradhar Reddy | 100 % | \n",
    "| 5    | 2024AA05045    | Karthik V          | 100 % |\n"
   ]
  },
  {
   "cell_type": "markdown",
   "id": "7e120cc3-c5a7-49ff-8e5d-6cea9732643c",
   "metadata": {},
   "source": [
    "<H3> Problem Statement 2 : Autonomous battery-operated micro aquatic boat<h3>"
   ]
  },
  {
   "cell_type": "markdown",
   "id": "d5fead9e-b21a-4544-bed5-1a483abb86b4",
   "metadata": {},
   "source": [
    "<h4>Q1. List the PEAS description of the problem</h4>"
   ]
  },
  {
   "cell_type": "markdown",
   "id": "05c3078a-18df-4a46-8a44-895936b134c1",
   "metadata": {},
   "source": [
    "\n",
    "#### PEAS Description for Shortest Path Finding Problem in Flooded Areas\n",
    "**Performance Measure:**- The shortest route that covers all roads (edges) in the graph without repetition.- Efficient use of the boat's battery life.- Maximized response time to people waving for help in flooded regions.- Correct reporting of the taken path and the locations where people requested help. \n",
    "\n",
    "**Environment:**- The flooded areas of Chennai, represented as a graph with flooded landmarks (vertices) and roads (edges).- Roads that need to be covered can be visited more than once but the shortest path must include all roads only once. \n",
    "\n",
    "**Actuators:**- Autonomous battery-operated micro aquatic boat. \n",
    "\n",
    "**Sensors:**- Detection of flooded areas.- Recognition of people waving for help.- GPS for real-time tracking and routing.\n",
    " "
   ]
  },
  {
   "cell_type": "markdown",
   "id": "0f911a1e-9ffb-4b78-9c2c-194c75a2c380",
   "metadata": {},
   "source": [
    "<h4>Q2. Define the heuristic and or fitness function for the given algorithms and the given problem</h4>"
   ]
  },
  {
   "cell_type": "markdown",
   "id": "bb1adc88-4205-4e0e-bccd-a6291d24244d",
   "metadata": {},
   "source": [
    "<!DOCTYPE html>\n",
    "<html lang=\"en\">\n",
    "<head>\n",
    "    <meta charset=\"UTF-8\">\n",
    "    <meta name=\"viewport\" content=\"width=device-width, initial-scale=1.0\">\n",
    "    <style>\n",
    "        body {\n",
    "            font-family: Arial, sans-serif;\n",
    "            line-height: 1.6;\n",
    "            margin: 20px;\n",
    "        }\n",
    "        h1, h2, h3, h4, h5, h6 {\n",
    "            color: #333;\n",
    "        }\n",
    "        .formula {\n",
    "            font-weight: bold;\n",
    "            font-style: italic;\n",
    "            background-color: #f4f4f4;\n",
    "            padding: 5px;\n",
    "            display: inline-block;\n",
    "            border-radius: 5px;\n",
    "        }\n",
    "    </style>\n",
    "</head>\n",
    "<body>\n",
    "    <h4><b>Iterative Deepening A* (IDA*)</b></h4>\n",
    "    <div class=\"container\">\n",
    "    <h5>Heuristic Function (h(n)) Using Eulerian Path</h1>\n",
    "    <p>The heuristic function estimates the minimum extra cost needed to traverse all edges by considering Eulerian path properties.</p>\n",
    "        <h5>Why Eulerian Path?</h5>\n",
    "        <ul>\n",
    "            <li>A graph has an <strong>Eulerian Circuit</strong> if all nodes have even degrees, meaning all edges can be traversed without repeating any.</li>\n",
    "            <li>A graph has an <strong>Eulerian Path</strong> (not a circuit) if exactly two nodes have an odd degree.</li>\n",
    "            <li>If there are more than two odd-degree nodes, we must add extra edges (by connecting odd-degree nodes) to make the path Eulerian.</li>\n",
    "        </ul>\n",
    "        <h5>Heuristic Calculation (h(n))</h5>\n",
    "        <ul>\n",
    "            <li>Count the number of <strong>odd-degree nodes</strong>.</li>\n",
    "            <li>The minimum additional cost required to make the graph Eulerian is half the sum of the shortest connections between odd-degree nodes.</li>\n",
    "            <li>This cost represents an <strong>optimistic lower bound</strong> for completing the traversal.</li>\n",
    "        </ul>\n",
    "        <h5>Fitness Function</h5>\n",
    "        <p>The fitness function combines:</p>\n",
    "        <p><strong>f(n) = g(n) + h(n)</strong></p>\n",
    "        <ul>\n",
    "            <li><strong>g(n)</strong> → The actual cost from the start node to the current node.</li>\n",
    "            <li><strong>h(n)</strong> → The heuristic estimate using Eulerian path properties.</li>\n",
    "        </ul>\n",
    "    </div>\n",
    "    <h4><b>Hill Climbing</b></h4>\n",
    "    <li>Hill Climbing is an optimization algorithm used to find the best solution by iteratively improving a solution based on a fitness function.</li> \n",
    "    <li>It moves towards better solutions and restarts if stuck in a local optimum</li>\n",
    "    <h5><b>Fitness Formula</b></h5>\n",
    "    <li>The fitness function evaluates how good a path is. Since we want the shortest path, we define: <span class=\"formula\">Fitness (Path) = - Total Path Length</span></li>\n",
    "    <li>Why Negative?</li>\n",
    "    <p> Lower path cost = better solution\n",
    "        In optimization problems, higher fitness values are preferred.\n",
    "        Since we want to minimize cost, we use a negative sign so that a shorter path has a higher fitness.</p>\n",
    "    <p>Since the goal is to minimize the total path length:\n",
    "    <ul>\n",
    "        <li>The total path length is the sum of all distances traveled.</li>\n",
    "        <li>A shorter path length indicates a better solution.</li>\n",
    "        <li>The objective is to find the most efficient path.</li>\n",
    "    </ul></li></p>\n",
    "</body>\n",
    "</html>\n"
   ]
  },
  {
   "cell_type": "markdown",
   "id": "1baf8fb3-1195-4673-8b17-f08458419c12",
   "metadata": {},
   "source": [
    "<h4>Q3. Use appropriate data structures and implement search algorithms (informed and local search). The starting point is to be obtained from the user as input. </h4>"
   ]
  },
  {
   "cell_type": "code",
   "execution_count": 6,
   "id": "8977dbc1-796e-437f-acbf-574de6c70255",
   "metadata": {},
   "outputs": [],
   "source": [
    "#Code Block : Set Initial State\n",
    "\n",
    "# Importing necessary libraries\n",
    "from collections import defaultdict  # For defaultdict\n",
    "import heapq  # For heap operations\n",
    "import time  # For timing\n",
    "import tracemalloc  # For memory tracking\n",
    "import math # For math operations\n",
    "import random # For random generation\n",
    "\n",
    "# Graph Structure\n",
    "class Network:\n",
    "    def __init__(self):\n",
    "        self.edges = defaultdict(dict)  # Initialize graph\n",
    "\n",
    "    def insert_edge(self, node1, node2, weight):\n",
    "        self.edges[node1][node2] = weight  # Add edge node1 -> node2\n",
    "        self.edges[node2][node1] = weight  # Add edge node2 -> node1"
   ]
  },
  {
   "cell_type": "code",
   "execution_count": 8,
   "id": "e5f6f460-1f73-4eca-be85-7d717973ab8c",
   "metadata": {},
   "outputs": [],
   "source": [
    "#Code Block : Set the matrix for transition & cost\n",
    "# Initialize Graph with given edges\n",
    "def build_network():\n",
    "    net = Network()\n",
    "    \n",
    "    connections = {\n",
    "        \"nungambakkam\": {\"guindy\": 12, \"tambaram\": 15},\n",
    "        \"guindy\": {\"nungambakkam\": 12, \"velachery\": 14, \"perumbakkam\": 7, \"tambaram\": 10},\n",
    "        \"velachery\": {\"guindy\": 14, \"perumbakkam\": 6},\n",
    "        \"perumbakkam\": {\"guindy\": 7, \"velachery\": 6, \"tambaram\": 11, \"purasawalkam\": 8},\n",
    "        \"tambaram\": {\"nungambakkam\": 15, \"guindy\": 10, \"perumbakkam\": 11, \"purasawalkam\": 9},\n",
    "        \"purasawalkam\": {\"perumbakkam\": 8, \"tambaram\": 9}\n",
    "    }\n",
    "\n",
    "    for node1 in connections:\n",
    "        for node2, weight in connections[node1].items():\n",
    "            net.insert_edge(node1, node2, weight)\n",
    "\n",
    "    return net"
   ]
  },
  {
   "cell_type": "code",
   "execution_count": 10,
   "id": "efdc493c-62bc-4688-92fa-80614c0204e0",
   "metadata": {},
   "outputs": [],
   "source": [
    "#Code Block : function to design the Transition Model/Successor function.\n",
    "# Fetch neighboring nodes\n",
    "def get_neighbors(network, node):\n",
    "    return list(network.edges[node].items())"
   ]
  },
  {
   "cell_type": "code",
   "execution_count": 12,
   "id": "a0ecced1-5f90-4578-90f4-79869a711521",
   "metadata": {},
   "outputs": [],
   "source": [
    "#Code block : function to handle goal test.\n",
    "# Check goal completion\n",
    "def is_goal_met(visited_links, total_links):\n",
    "    return len(visited_links) == total_links"
   ]
  },
  {
   "cell_type": "code",
   "execution_count": 14,
   "id": "da5a85c2",
   "metadata": {},
   "outputs": [],
   "source": [
    "# Eulerian Path Analysis\n",
    "# Heuristic Definition:\n",
    "# The heuristic function h(n) is based on the number of odd-degree nodes in the graph. This follows from Euler’s theorem:\n",
    "\n",
    "# If 0 nodes have an odd degree → Eulerian Circuit exists\n",
    "# If 2 nodes have an odd degree → Eulerian Path exists\n",
    "# If more than 2 nodes have an odd degree → Graph is NOT Eulerian\n",
    "# Thus, the heuristic function can be defined as:\n",
    "# ℎ(𝑛)=Number of Odd Degree Nodes/2\n",
    "\n",
    "def check_eulerian(network):\n",
    "    odd_nodes = [node for node in network.edges if len(network.edges[node]) % 2 != 0]\n",
    "    odd_count = len(odd_nodes)\n",
    "    \n",
    "    if odd_count == 0:\n",
    "        print(\"Eulerian Circuit Exists.\")\n",
    "        return \"Eulerian Circuit\"\n",
    "    elif odd_count == 2:\n",
    "        print(\"Eulerian Path Exists.\")\n",
    "        return \"Eulerian Path\"\n",
    "    else:\n",
    "        print(f\"Graph is NOT Eulerian ({odd_count} nodes with odd degree).\")\n",
    "        return \"Not Eulerian\"\n",
    "\n",
    "# Hierholzer’s Algorithm for Eulerian Path/Circuit\n",
    "def determine_eulerian_route(network, start):\n",
    "    local_graph = {node: dict(neighbors) for node, neighbors in network.edges.items()}\n",
    "    stack, path = [start], []\n",
    "    \n",
    "    while stack:\n",
    "        node = stack[-1]\n",
    "        if local_graph[node]:\n",
    "            neighbor, _ = local_graph[node].popitem()\n",
    "            del local_graph[neighbor][node]  # Remove reverse edge\n",
    "            stack.append(neighbor)\n",
    "        else:\n",
    "            path.append(stack.pop())\n",
    "    \n",
    "    return path[::-1]  # Return path in correct order\n"
   ]
  },
  {
   "cell_type": "markdown",
   "id": "1d96e3c1-a3c6-4d34-bd34-44fd7b73eece",
   "metadata": {},
   "source": [
    "<h4>Definition of Algorithm 1 (Iterative Deepening A* Algorithm)</h4>"
   ]
  },
  {
   "cell_type": "code",
   "execution_count": 95,
   "id": "b36c067f-0924-4823-bf79-3efe79332750",
   "metadata": {},
   "outputs": [],
   "source": [
    "#Code Block : function for Algorithm 1 : Iterative Deepening A* Algorithm \n",
    "# Iterative Deepening A* (IDA*) Algorithm\n",
    "def ida_star(network, start):\n",
    "    \"\"\"\n",
    "    Performs the Iterative Deepening A* (IDA*) search on the given network.\n",
    "    If the graph has an Eulerian Path or Circuit, it directly finds the path.\n",
    "    Otherwise, it uses IDA* to find an optimal route based on heuristic cost.\n",
    "    \n",
    "    :param network: The graph represented as an adjacency list with edge weights.\n",
    "    :param start: The starting node for the search.\n",
    "    :return: The Eulerian path if exists, otherwise the optimal route found.\n",
    "    \"\"\"\n",
    "    \n",
    "    # If the graph has an Eulerian Circuit or Path, use Hierholzer’s Algorithm\n",
    "    if check_eulerian(network) in [\"Eulerian Circuit\", \"Eulerian Path\"]:\n",
    "        return determine_eulerian_route(network, start)\n",
    "\n",
    "    # Compute the total number of edges (links) in the network\n",
    "    total_links = sum(len(network.edges[node]) for node in network.edges) // 2\n",
    "\n",
    "    # Find the minimum edge cost in the graph (used for heuristic calculation)\n",
    "    min_cost = min(min(weight for weight in neighbors.values()) for neighbors in network.edges.values())\n",
    "    \n",
    "    def heuristic(visited_links):\n",
    "        \"\"\"\n",
    "        Heuristic function estimating the remaining cost to complete the path.\n",
    "        It assumes the remaining unvisited links will be traversed at minimum cost.\n",
    "        \n",
    "        :param visited_links: Set of already visited edges.\n",
    "        :return: Estimated remaining cost to complete all links.\n",
    "        \"\"\"\n",
    "        return (total_links - len(visited_links)) * min_cost\n",
    "\n",
    "    # Initial threshold set using the heuristic function\n",
    "    threshold = heuristic(set())\n",
    "\n",
    "    def search(node, cost, threshold, visited_links, route):\n",
    "        \"\"\"\n",
    "        Recursive depth-first search function with cost-bound pruning.\n",
    "        \n",
    "        :param node: Current node being explored.\n",
    "        :param cost: Cost accumulated so far.\n",
    "        :param threshold: Current cost threshold for pruning.\n",
    "        :param visited_links: Set of edges already traversed.\n",
    "        :param route: List representing the current path taken.\n",
    "        :return: Either a valid route if found, or the next threshold to explore.\n",
    "        \"\"\"\n",
    "        estimated_cost = cost + heuristic(visited_links)\n",
    "        \n",
    "        # If estimated total cost exceeds threshold, return new minimum threshold\n",
    "        if estimated_cost > threshold:\n",
    "            return estimated_cost\n",
    "        \n",
    "        # If all links are visited, return the route as a valid solution\n",
    "        if is_goal_met(visited_links, total_links):\n",
    "            return route\n",
    "        \n",
    "        min_threshold = math.inf  # Tracks the next best threshold value\n",
    "        \n",
    "        # Explore all possible moves from the current node\n",
    "        for neighbor, edge_cost in network.edges[node].items():\n",
    "            link = frozenset({node, neighbor})  # Use frozenset to ensure undirected edges\n",
    "            \n",
    "            if link not in visited_links:\n",
    "                # Mark the link as visited and add neighbor to the route\n",
    "                visited_links.add(link)\n",
    "                route.append(neighbor)\n",
    "                \n",
    "                # Recursively call search with updated cost and path\n",
    "                result = search(neighbor, cost + edge_cost, threshold, visited_links, route)\n",
    "                \n",
    "                # If a valid path is found, return it\n",
    "                if isinstance(result, list):\n",
    "                    return result\n",
    "                \n",
    "                # Update the minimum threshold for next iteration\n",
    "                min_threshold = min(min_threshold, result)\n",
    "                \n",
    "                # Backtrack: Remove the last added elements for further exploration\n",
    "                route.pop()\n",
    "                visited_links.remove(link)\n",
    "\n",
    "        return min_threshold  # Return updated threshold for the next iteration\n",
    "    \n",
    "    # Iterative deepening loop\n",
    "    while True:\n",
    "        visited_links, route = set(), [start]  # Initialize visited edges and path\n",
    "        result = search(start, 0, threshold, visited_links, route)\n",
    "        \n",
    "        if isinstance(result, list):  # If a valid path is found, return it\n",
    "            return result\n",
    "        \n",
    "        if result == math.inf:  # If no solution is found, return failure\n",
    "            return \"No solution found\"\n",
    "        \n",
    "        threshold = result  # Update threshold for the next iteration\n"
   ]
  },
  {
   "cell_type": "markdown",
   "id": "ab1f056b-44d2-476e-93bf-aa3c8ac6e6b6",
   "metadata": {},
   "source": [
    "<h4>Definition of Algorithm 2 (Hill climbing algorithm)</h4>"
   ]
  },
  {
   "cell_type": "code",
   "execution_count": 84,
   "id": "2aa17d27-b2a4-40e9-9af3-bca3a59ff05a",
   "metadata": {},
   "outputs": [],
   "source": [
    "#Code Block : function for Algorithm 2 : Hill Climbing Algorithm \n",
    "# Hill Climbing Algorithm with Restart on Local Minima\n",
    "def hill_climb(network, start):\n",
    "    \"\"\"\n",
    "    Hill Climbing algorithm to find an optimal path in a network.\n",
    "    If the graph has an Eulerian path, it follows a greedy randomized approach.\n",
    "    Otherwise, it attempts to minimize travel cost while restarting on local minima.\n",
    "    \n",
    "    :param network: Graph represented as an adjacency list with edge weights.\n",
    "    :param start: The starting node for the search.\n",
    "    :return: The best route found or \"No solution found\" if unsuccessful.\n",
    "    \"\"\"\n",
    "    if check_eulerian(network):  # Check for Eulerian Path\n",
    "        print(\"Using greedy randomized approach for Eulerian path.\")\n",
    "\n",
    "    total_links = sum(len(network.edges[node]) for node in network.edges) // 2\n",
    "    max_attempts = 10  # Maximum number of restarts if stuck\n",
    "\n",
    "    def explore(node):\n",
    "        \"\"\"\n",
    "        Explores the graph using the Hill Climbing approach.\n",
    "        Tries to find the best path by selecting the lowest-cost moves,\n",
    "        with a small probability of choosing a random move for diversity.\n",
    "\n",
    "        :param node: Current node in exploration.\n",
    "        :return: The path found and its total cost.\n",
    "        \"\"\"\n",
    "        current, route, visited_links, total_cost = node, [node], set(), 0\n",
    "\n",
    "        while len(visited_links) < total_links:\n",
    "            # Get possible moves\n",
    "            possible_moves = [(neighbor, cost) for neighbor, cost in network.edges[current].items() \n",
    "                              if frozenset({current, neighbor}) not in visited_links]\n",
    "\n",
    "            if not possible_moves:  # If no moves left, return failure\n",
    "                return None, math.inf  \n",
    "\n",
    "            # Greedy Selection: 70% best choice, 30% random\n",
    "            if random.random() < 0.7:\n",
    "                next_node, edge_cost = min(possible_moves, key=lambda x: x[1])  # Choose lowest cost\n",
    "            else:\n",
    "                next_node, edge_cost = random.choice(possible_moves)  # Random choice\n",
    "\n",
    "            # Update path\n",
    "            visited_links.add(frozenset({current, next_node}))\n",
    "            route.append(next_node)\n",
    "            total_cost += edge_cost\n",
    "            current = next_node\n",
    "\n",
    "        return route, total_cost\n",
    "\n",
    "    best_route, lowest_cost = None, math.inf\n",
    "    attempts = 0\n",
    "\n",
    "    while attempts < max_attempts:\n",
    "        candidate_route, candidate_cost = explore(start)\n",
    "\n",
    "        if candidate_route and candidate_cost < lowest_cost:\n",
    "            best_route, lowest_cost = candidate_route, candidate_cost\n",
    "        else:\n",
    "            attempts += 1\n",
    "            start = random.choice(list(network.edges.keys()))  # Restart from a new random node\n",
    "            print(f\"Restarting from: {start} (Local Minima Detected)\")\n",
    "\n",
    "    return best_route if best_route else \"No solution found\"\n"
   ]
  },
  {
   "cell_type": "markdown",
   "id": "bb6928e7-6fe1-4d94-872f-84762842d6b6",
   "metadata": {},
   "source": [
    "<h4>Dynamic Input</h4>"
   ]
  },
  {
   "cell_type": "code",
   "execution_count": 86,
   "id": "d8ec09bd-626e-413d-a187-f9e15fca38ff",
   "metadata": {},
   "outputs": [
    {
     "name": "stdout",
     "output_type": "stream",
     "text": [
      "Possible starting locations: ['nungambakkam', 'guindy', 'tambaram', 'velachery', 'perumbakkam', 'purasawalkam']\n"
     ]
    },
    {
     "name": "stdin",
     "output_type": "stream",
     "text": [
      "Enter starting vertex:  tambaram\n"
     ]
    }
   ],
   "source": [
    "#Code Block : Function & call to get inputs\n",
    "# Get dynamic input for the start node\n",
    "def get_start_state(network):\n",
    "    print(\"Possible starting locations:\", list(network.edges.keys()))\n",
    "    start_vertex = input(\"Enter starting vertex: \").strip().lower()\n",
    "    \n",
    "    while start_vertex not in network.edges:\n",
    "        print(\"Invalid vertex. Please choose from:\", list(network.edges.keys()))\n",
    "        start_vertex = input(\"Enter starting vertex: \").strip().lower()\n",
    "    \n",
    "    return start_vertex\n",
    "# Build the network\n",
    "network = build_network()\n",
    "\n",
    "# Get the start node\n",
    "start_node = get_start_state(network)"
   ]
  },
  {
   "cell_type": "markdown",
   "id": "0c960e62-1c0c-424c-81fb-d12f44f47c18",
   "metadata": {},
   "source": [
    "<h4>Q4. Calling of search algorithms</h4>"
   ]
  },
  {
   "cell_type": "code",
   "execution_count": 88,
   "id": "67798015-dd65-42fc-bfa4-8aaee16730f8",
   "metadata": {},
   "outputs": [
    {
     "name": "stdout",
     "output_type": "stream",
     "text": [
      "\n",
      "--- Running Iterative Deepening A* (IDA*) ---\n",
      "Eulerian Circuit Exists.\n",
      "\n",
      "IDA* Path: tambaram --> purasawalkam --> perumbakkam --> tambaram --> guindy --> perumbakkam --> velachery --> guindy --> nungambakkam --> tambaram\n",
      "IDA* Total Cost (g): 92\n",
      "IDA* Fitness (f = g + h): 92 (since h(goal)=0)\n",
      "\n",
      "### IDA* Algorithm Performance Metrics ###\n",
      "⏳ Execution Time: 0.000997 seconds\n",
      "💾 Memory Usage (Current): 0.002212 MB\n",
      "📈 Memory Usage (Peak): 0.019887 MB\n"
     ]
    }
   ],
   "source": [
    "# Invoke IDA* Algorithm\n",
    "print(\"\\n--- Running Iterative Deepening A* (IDA*) ---\")\n",
    "tracemalloc.start()\n",
    "start_time_ida = time.time()\n",
    "\n",
    "ida_path = ida_star(network, start_node)  # Ensure correct variables\n",
    "\n",
    "end_time_ida = time.time()\n",
    "current_memory_ida, peak_memory_ida = tracemalloc.get_traced_memory()\n",
    "# Compute total path cost based on adjacency list\n",
    "def compute_path_cost(path, graph):\n",
    "    total = 0\n",
    "    for i in range(len(path) - 1):\n",
    "        node, next_node = path[i], path[i + 1]\n",
    "        if next_node in graph.edges[node]:  # Ensure the path exists\n",
    "            total += graph.edges[node][next_node]\n",
    "        else:\n",
    "            return None  # If any part of the path is invalid, return None\n",
    "    return total\n",
    "\n",
    "if isinstance(ida_path, list) and ida_path:\n",
    "    formatted_ida_path = \" --> \".join(ida_path)\n",
    "    total_cost_ida = compute_path_cost(ida_path, network)\n",
    "else:\n",
    "    formatted_ida_path = \"No valid path found.\"\n",
    "    total_cost_ida = None\n",
    "\n",
    "print(\"\\nIDA* Path:\", formatted_ida_path)\n",
    "if total_cost_ida is not None:\n",
    "    print(f\"IDA* Total Cost (g): {total_cost_ida}\")\n",
    "    print(f\"IDA* Fitness (f = g + h): {total_cost_ida} (since h(goal)=0)\")\n",
    "else:\n",
    "    print(\"IDA* Path cost could not be computed.\")\n",
    "tracemalloc.stop()\n",
    "print(\"\\n### IDA* Algorithm Performance Metrics ###\")\n",
    "print(f\"⏳ Execution Time: {end_time_ida - start_time_ida:.6f} seconds\")\n",
    "print(f\"💾 Memory Usage (Current): {current_memory_ida / (1024 * 1024):.6f} MB\")\n",
    "print(f\"📈 Memory Usage (Peak): {peak_memory_ida / (1024 * 1024):.6f} MB\")\n",
    "\n"
   ]
  },
  {
   "cell_type": "code",
   "execution_count": 90,
   "id": "2d384b32-91a5-41a3-bef6-00d818a9af2d",
   "metadata": {},
   "outputs": [
    {
     "name": "stdout",
     "output_type": "stream",
     "text": [
      "\n",
      "--- Running Hill Climbing ---\n",
      "Eulerian Circuit Exists.\n",
      "Using greedy randomized approach for Eulerian path.\n",
      "Restarting from: perumbakkam (Local Minima Detected)\n",
      "Restarting from: perumbakkam (Local Minima Detected)\n",
      "Restarting from: nungambakkam (Local Minima Detected)\n",
      "Restarting from: guindy (Local Minima Detected)\n",
      "Restarting from: nungambakkam (Local Minima Detected)\n",
      "Restarting from: nungambakkam (Local Minima Detected)\n",
      "Restarting from: perumbakkam (Local Minima Detected)\n",
      "Restarting from: nungambakkam (Local Minima Detected)\n",
      "Restarting from: velachery (Local Minima Detected)\n",
      "Restarting from: purasawalkam (Local Minima Detected)\n",
      "\n",
      "Hill Climbing Path: tambaram --> purasawalkam --> perumbakkam --> velachery --> guindy --> perumbakkam --> tambaram --> guindy --> nungambakkam --> tambaram\n",
      "Hill Climbing Total Cost (g): 92\n",
      "Hill Climbing Fitness (f = g + h): -92 (since h(goal)=0)\n",
      "\n",
      "### Hill Climbing Algorithm Performance Metrics ###\n",
      "⏳ Execution Time: 0.004989 seconds\n",
      "💾 Current Memory Usage: 0.002821 MB\n",
      "📈 Peak Memory Usage: 0.020496 MB\n"
     ]
    }
   ],
   "source": [
    "# Invoke Hill Climbing Algorithm\n",
    "print(\"\\n--- Running Hill Climbing ---\")\n",
    "tracemalloc.start()\n",
    "start_time_hill = time.time()  # Corrected variable name\n",
    "\n",
    "hill_path = hill_climb(network, start_node)  # Ensure correct function call\n",
    "\n",
    "end_time_hill = time.time()  # Corrected variable name\n",
    "current_memory_hill, peak_memory_hill = tracemalloc.get_traced_memory()\n",
    "\n",
    "def compute_path_cost_hill(path, graph):\n",
    "    \"\"\"Compute total path cost based on adjacency list.\"\"\"\n",
    "    total = 0\n",
    "    for i in range(len(path) - 1):\n",
    "        node, next_node = path[i], path[i + 1]\n",
    "        if next_node in graph.edges[node]:  # Ensure the path exists\n",
    "            total += graph.edges[node][next_node]\n",
    "        else:\n",
    "            return None  # If any part of the path is invalid, return None\n",
    "    return total\n",
    "\n",
    "if isinstance(hill_path, list) and hill_path:  # Fixed variable reference\n",
    "    formatted_hill_path = \" --> \".join(hill_path)\n",
    "    total_cost_hill = compute_path_cost_hill(hill_path, network)\n",
    "else:\n",
    "    formatted_hill_path = \"No valid path found.\"\n",
    "    total_cost_hill = None\n",
    "\n",
    "print(\"\\nHill Climbing Path:\", formatted_hill_path)\n",
    "if total_cost_hill is not None:  # Fixed condition check\n",
    "    print(f\"Hill Climbing Total Cost (g): {total_cost_hill}\")\n",
    "    print(f\"Hill Climbing Fitness (f = g + h): -{total_cost_hill} (since h(goal)=0)\")\n",
    "else:\n",
    "    print(\"Hill Climbing Path cost could not be computed.\")\n",
    "tracemalloc.stop()\n",
    "print(\"\\n### Hill Climbing Algorithm Performance Metrics ###\")\n",
    "print(f\"⏳ Execution Time: {end_time_hill - start_time_hill:.6f} seconds\")\n",
    "print(f\"💾 Current Memory Usage: {current_memory_hill / (1024 * 1024):.6f} MB\")\n",
    "print(f\"📈 Peak Memory Usage: {peak_memory_hill / (1024 * 1024):.6f} MB\")\n"
   ]
  },
  {
   "cell_type": "markdown",
   "id": "6ddaadb5-5e32-41a1-b2ee-e8f7f6e88ff7",
   "metadata": {},
   "source": [
    "<h4>Q5. Find and print space and time complexity using code in your implementation </h4>"
   ]
  },
  {
   "cell_type": "markdown",
   "id": "4a67e0c5-edfc-42c6-bcb6-f64337d00d45",
   "metadata": {},
   "source": [
    "<h4>Comparative Analysis (Time and Space Complexity) </h4>"
   ]
  },
  {
   "cell_type": "code",
   "execution_count": 45,
   "id": "dab69e88-7a0a-4a3b-bfcc-3e361d3fcd9e",
   "metadata": {},
   "outputs": [
    {
     "name": "stdout",
     "output_type": "stream",
     "text": [
      "IDA* Time taken: 0.000000 seconds\n",
      "IDA* Peak memory usage: 0.019887 MB\n",
      "\n",
      "[INFO] General Time & Space Complexity of IDA* Algorithm:\n",
      "   🕒 Time Complexity: O(b^d) → (b: branching factor, d: depth of the solution)\n",
      "   💾 Space Complexity: O(d) → (due to depth-limited search)\n"
     ]
    }
   ],
   "source": [
    "#Code Block : Print the Time & Space complexity of algorithm 1: IDA*\n",
    "print(f\"IDA* Time taken: {end_time_ida - start_time_ida:.6f} seconds\")\n",
    "print(f\"IDA* Peak memory usage: {peak_memory_ida / (1024 * 1024):.6f} MB\")\n",
    "\n",
    "print(\"\\n[INFO] General Time & Space Complexity of IDA* Algorithm:\")\n",
    "print(\"   🕒 Time Complexity: O(b^d) → (b: branching factor, d: depth of the solution)\")\n",
    "print(\"   💾 Space Complexity: O(d) → (due to depth-limited search)\")"
   ]
  },
  {
   "cell_type": "code",
   "execution_count": 47,
   "id": "3157138a",
   "metadata": {},
   "outputs": [
    {
     "name": "stdout",
     "output_type": "stream",
     "text": [
      "Hill Climbing Time taken: 0.005838 seconds\n",
      "Hill Climbing Peak memory usage: 0.020046 MB\n",
      "\n",
      "[INFO]  Hill Climbing Algorithm Complexity Analysis ###\n",
      "   🕒 Time Complexity: O(n) → 'n' represents the number of nodes visited during the search.\n",
      "   💾 Space Complexity: O(1) → Hill Climbing uses constant space as it doesn't store visited nodes.\n",
      "   ⏳ Worst Case: O(E) → If edge tracking is required, space complexity can grow to the number of edges (E).\n"
     ]
    }
   ],
   "source": [
    "#Code Block : Print the Time & Space complexity of algorithm 2: Hill Climbing\n",
    "print(f\"Hill Climbing Time taken: {end_time_hill - start_time_hill:.6f} seconds\")\n",
    "print(f\"Hill Climbing Peak memory usage: {peak_memory_hill / (1024 * 1024):.6f} MB\")\n",
    "\n",
    "print(\"\\n[INFO]  Hill Climbing Algorithm Complexity Analysis ###\")\n",
    "print(\"   🕒 Time Complexity: O(n) → 'n' represents the number of nodes visited during the search.\")\n",
    "print(\"   💾 Space Complexity: O(1) → Hill Climbing uses constant space as it doesn't store visited nodes.\")\n",
    "print(\"   ⏳ Worst Case: O(E) → If edge tracking is required, space complexity can grow to the number of edges (E).\")\n"
   ]
  },
  {
   "cell_type": "markdown",
   "id": "1aff4ea7",
   "metadata": {},
   "source": [
    "<h4>6. Provide your comparitive analysis or findings in no more than 3 lines in below section<h4>Comparision </h4>"
   ]
  },
  {
   "cell_type": "markdown",
   "id": "5b87d5a6-a53e-4404-a710-ef97058fdcc0",
   "metadata": {},
   "source": [
    "<div style=\"font-size: calc(1em + 2pt); font-style: normal; font-weight: normal;\">\n",
    "    <ul>\n",
    "        <li>IDA* explores optimally using heuristic-guided backtracking (O(b^d) time, O(d) space) but is computationally expensive, while Hill Climbing is faster (O(n)) but may get stuck in local optima due to lack of memory for visited edges.</li>\n",
    "        <li>Hill Climbing is more space-efficient (O(1)) but lacks guarantees for the best path, unlike IDA*, which ensures optimal paths at the cost of higher complexity.</li>\n",
    "        <li>This implementation highlights Hill Climbing’s limitations in local search, as it often settles in suboptimal solutions.</li>\n",
    "    </ul>\n",
    "</div>\n"
   ]
  }
 ],
 "metadata": {
  "kernelspec": {
   "display_name": "Python 3 (ipykernel)",
   "language": "python",
   "name": "python3"
  },
  "language_info": {
   "codemirror_mode": {
    "name": "ipython",
    "version": 3
   },
   "file_extension": ".py",
   "mimetype": "text/x-python",
   "name": "python",
   "nbconvert_exporter": "python",
   "pygments_lexer": "ipython3",
   "version": "3.12.7"
  }
 },
 "nbformat": 4,
 "nbformat_minor": 5
}
